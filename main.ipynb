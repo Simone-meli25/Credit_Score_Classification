{
 "cells": [
  {
   "cell_type": "markdown",
   "metadata": {},
   "source": [
    "## Initial SetUp"
   ]
  },
  {
   "cell_type": "code",
   "execution_count": 85,
   "metadata": {},
   "outputs": [
    {
     "name": "stdout",
     "output_type": "stream",
     "text": [
      "Dataset Overview:\n"
     ]
    },
    {
     "data": {
      "text/html": [
       "<div>\n",
       "<style scoped>\n",
       "    .dataframe tbody tr th:only-of-type {\n",
       "        vertical-align: middle;\n",
       "    }\n",
       "\n",
       "    .dataframe tbody tr th {\n",
       "        vertical-align: top;\n",
       "    }\n",
       "\n",
       "    .dataframe thead th {\n",
       "        text-align: right;\n",
       "    }\n",
       "</style>\n",
       "<table border=\"1\" class=\"dataframe\">\n",
       "  <thead>\n",
       "    <tr style=\"text-align: right;\">\n",
       "      <th></th>\n",
       "      <th>ID</th>\n",
       "      <th>Customer_ID</th>\n",
       "      <th>Month</th>\n",
       "      <th>Name</th>\n",
       "      <th>City</th>\n",
       "      <th>Street</th>\n",
       "      <th>Age</th>\n",
       "      <th>SSN</th>\n",
       "      <th>Occupation</th>\n",
       "      <th>Annual_Income</th>\n",
       "      <th>...</th>\n",
       "      <th>Num_of_Delayed_Payment</th>\n",
       "      <th>Changed_Credit_Limit</th>\n",
       "      <th>Num_Credit_Inquiries</th>\n",
       "      <th>Credit_Mix</th>\n",
       "      <th>Outstanding_Debt</th>\n",
       "      <th>Credit_Utilization_Ratio</th>\n",
       "      <th>Credit_History_Age</th>\n",
       "      <th>Payment_of_Min_Amount</th>\n",
       "      <th>Amount_invested_monthly</th>\n",
       "      <th>Credit_Score</th>\n",
       "    </tr>\n",
       "  </thead>\n",
       "  <tbody>\n",
       "    <tr>\n",
       "      <th>0</th>\n",
       "      <td>NaN</td>\n",
       "      <td>CUS_0xd40</td>\n",
       "      <td>NaN</td>\n",
       "      <td>Aaron Maashoh</td>\n",
       "      <td>Lonton</td>\n",
       "      <td>Oxford Street</td>\n",
       "      <td>NaN</td>\n",
       "      <td>821-00-0265</td>\n",
       "      <td>Manager</td>\n",
       "      <td>19114.12</td>\n",
       "      <td>...</td>\n",
       "      <td>7</td>\n",
       "      <td>11.27</td>\n",
       "      <td>4.0</td>\n",
       "      <td>_</td>\n",
       "      <td>NaN</td>\n",
       "      <td>26.822620</td>\n",
       "      <td>22 Years and 1 Months</td>\n",
       "      <td>No</td>\n",
       "      <td>80.41529543900253</td>\n",
       "      <td>3</td>\n",
       "    </tr>\n",
       "    <tr>\n",
       "      <th>1</th>\n",
       "      <td>0x1603</td>\n",
       "      <td>CUS_0xd40</td>\n",
       "      <td>February</td>\n",
       "      <td>Aaron Maashoh</td>\n",
       "      <td>Lonton</td>\n",
       "      <td>Oxford Street</td>\n",
       "      <td>23.0</td>\n",
       "      <td>821-00-0265</td>\n",
       "      <td>Manager</td>\n",
       "      <td>19114.12</td>\n",
       "      <td>...</td>\n",
       "      <td>NaN</td>\n",
       "      <td>11.27</td>\n",
       "      <td>4.0</td>\n",
       "      <td>NaN</td>\n",
       "      <td>809.98</td>\n",
       "      <td>31.944960</td>\n",
       "      <td>NaN</td>\n",
       "      <td>No</td>\n",
       "      <td>118.28022162236736</td>\n",
       "      <td>3</td>\n",
       "    </tr>\n",
       "    <tr>\n",
       "      <th>2</th>\n",
       "      <td>0x1604</td>\n",
       "      <td>CUS_0xd40</td>\n",
       "      <td>NaN</td>\n",
       "      <td>NaN</td>\n",
       "      <td>Lonton</td>\n",
       "      <td>Oxford Street</td>\n",
       "      <td>-500.0</td>\n",
       "      <td>821-00-0265</td>\n",
       "      <td>Manager</td>\n",
       "      <td>19114.12</td>\n",
       "      <td>...</td>\n",
       "      <td>7</td>\n",
       "      <td>NaN</td>\n",
       "      <td>4.0</td>\n",
       "      <td>Good</td>\n",
       "      <td>809.98</td>\n",
       "      <td>28.609352</td>\n",
       "      <td>NaN</td>\n",
       "      <td>No</td>\n",
       "      <td>81.699521264648</td>\n",
       "      <td>3</td>\n",
       "    </tr>\n",
       "    <tr>\n",
       "      <th>3</th>\n",
       "      <td>0x1605</td>\n",
       "      <td>CUS_0xd40</td>\n",
       "      <td>April</td>\n",
       "      <td>Aaron Maashoh</td>\n",
       "      <td>Lonton</td>\n",
       "      <td>Oxford Street</td>\n",
       "      <td>23.0</td>\n",
       "      <td>821-00-0265</td>\n",
       "      <td>Manager</td>\n",
       "      <td>19114.12</td>\n",
       "      <td>...</td>\n",
       "      <td>4</td>\n",
       "      <td>6.27</td>\n",
       "      <td>4.0</td>\n",
       "      <td>Good</td>\n",
       "      <td>809.98</td>\n",
       "      <td>NaN</td>\n",
       "      <td>22 Years and 4 Months</td>\n",
       "      <td>No</td>\n",
       "      <td>199.4580743910713</td>\n",
       "      <td>3</td>\n",
       "    </tr>\n",
       "    <tr>\n",
       "      <th>4</th>\n",
       "      <td>NaN</td>\n",
       "      <td>CUS_0xd40</td>\n",
       "      <td>May</td>\n",
       "      <td>Aaron Maashoh</td>\n",
       "      <td>Lonton</td>\n",
       "      <td>Oxford Street</td>\n",
       "      <td>23.0</td>\n",
       "      <td>821-00-0265</td>\n",
       "      <td>Manager</td>\n",
       "      <td>19114.12</td>\n",
       "      <td>...</td>\n",
       "      <td>NaN</td>\n",
       "      <td>11.27</td>\n",
       "      <td>4.0</td>\n",
       "      <td>Good</td>\n",
       "      <td>809.98</td>\n",
       "      <td>24.797347</td>\n",
       "      <td>22 Years and 5 Months</td>\n",
       "      <td>No</td>\n",
       "      <td>41.420153086217326</td>\n",
       "      <td>3</td>\n",
       "    </tr>\n",
       "  </tbody>\n",
       "</table>\n",
       "<p>5 rows × 27 columns</p>\n",
       "</div>"
      ],
      "text/plain": [
       "       ID Customer_ID     Month           Name    City         Street    Age  \\\n",
       "0     NaN   CUS_0xd40       NaN  Aaron Maashoh  Lonton  Oxford Street    NaN   \n",
       "1  0x1603   CUS_0xd40  February  Aaron Maashoh  Lonton  Oxford Street   23.0   \n",
       "2  0x1604   CUS_0xd40       NaN            NaN  Lonton  Oxford Street -500.0   \n",
       "3  0x1605   CUS_0xd40     April  Aaron Maashoh  Lonton  Oxford Street   23.0   \n",
       "4     NaN   CUS_0xd40       May  Aaron Maashoh  Lonton  Oxford Street   23.0   \n",
       "\n",
       "           SSN Occupation Annual_Income  ...  Num_of_Delayed_Payment  \\\n",
       "0  821-00-0265    Manager      19114.12  ...                       7   \n",
       "1  821-00-0265    Manager      19114.12  ...                     NaN   \n",
       "2  821-00-0265    Manager      19114.12  ...                       7   \n",
       "3  821-00-0265    Manager      19114.12  ...                       4   \n",
       "4  821-00-0265    Manager      19114.12  ...                     NaN   \n",
       "\n",
       "   Changed_Credit_Limit  Num_Credit_Inquiries  Credit_Mix Outstanding_Debt  \\\n",
       "0                 11.27                   4.0           _              NaN   \n",
       "1                 11.27                   4.0         NaN           809.98   \n",
       "2                   NaN                   4.0        Good           809.98   \n",
       "3                  6.27                   4.0        Good           809.98   \n",
       "4                 11.27                   4.0        Good           809.98   \n",
       "\n",
       "  Credit_Utilization_Ratio     Credit_History_Age Payment_of_Min_Amount  \\\n",
       "0                26.822620  22 Years and 1 Months                    No   \n",
       "1                31.944960                    NaN                    No   \n",
       "2                28.609352                    NaN                    No   \n",
       "3                      NaN  22 Years and 4 Months                    No   \n",
       "4                24.797347  22 Years and 5 Months                    No   \n",
       "\n",
       "  Amount_invested_monthly  Credit_Score  \n",
       "0       80.41529543900253             3  \n",
       "1      118.28022162236736             3  \n",
       "2         81.699521264648             3  \n",
       "3       199.4580743910713             3  \n",
       "4      41.420153086217326             3  \n",
       "\n",
       "[5 rows x 27 columns]"
      ]
     },
     "execution_count": 85,
     "metadata": {},
     "output_type": "execute_result"
    }
   ],
   "source": [
    "# Import necessary libraries\n",
    "import pandas as pd\n",
    "import numpy as np\n",
    "import matplotlib.pyplot as plt\n",
    "import seaborn as sns\n",
    "\n",
    "# Make plots appear in the notebook\n",
    "%matplotlib inline\n",
    "\n",
    "# Set style for better visualization\n",
    "plt.style.use('seaborn-v0_8-whitegrid')\n",
    "sns.set(font_scale=1.2)\n",
    "\n",
    "# Load the dataset\n",
    "# Assuming the dataset folder is in the current directory\n",
    "df = pd.read_csv('data/credit_score_dataset.csv')\n",
    "\n",
    "# Display the first few rows of the dataset\n",
    "print(\"Dataset Overview:\")\n",
    "df.head()"
   ]
  },
  {
   "cell_type": "markdown",
   "metadata": {},
   "source": [
    "## Initial Data Exploration"
   ]
  },
  {
   "cell_type": "code",
   "execution_count": 86,
   "metadata": {},
   "outputs": [
    {
     "name": "stdout",
     "output_type": "stream",
     "text": [
      "Dataset shape: (100000, 27)\n"
     ]
    }
   ],
   "source": [
    "# Check the shape of the dataset (rows, columns)\n",
    "print(f\"Dataset shape: {df.shape}\")"
   ]
  },
  {
   "cell_type": "code",
   "execution_count": 87,
   "metadata": {},
   "outputs": [
    {
     "name": "stdout",
     "output_type": "stream",
     "text": [
      "\n",
      "Dataset Information:\n",
      "<class 'pandas.core.frame.DataFrame'>\n",
      "RangeIndex: 100000 entries, 0 to 99999\n",
      "Data columns (total 27 columns):\n",
      " #   Column                    Non-Null Count   Dtype  \n",
      "---  ------                    --------------   -----  \n",
      " 0   ID                        90058 non-null   object \n",
      " 1   Customer_ID               90107 non-null   object \n",
      " 2   Month                     90062 non-null   object \n",
      " 3   Name                      81113 non-null   object \n",
      " 4   City                      90149 non-null   object \n",
      " 5   Street                    90080 non-null   object \n",
      " 6   Age                       85512 non-null   float64\n",
      " 7   SSN                       89999 non-null   object \n",
      " 8   Occupation                90056 non-null   object \n",
      " 9   Annual_Income             89906 non-null   object \n",
      " 10  Monthly_Inhand_Salary     76405 non-null   float64\n",
      " 11  Num_Bank_Accounts         90167 non-null   float64\n",
      " 12  Num_Credit_Card           89938 non-null   float64\n",
      " 13  Interest_Rate             90151 non-null   float64\n",
      " 14  Num_of_Loan               89809 non-null   object \n",
      " 15  Type_of_Loan              79688 non-null   object \n",
      " 16  Delay_from_due_date       90012 non-null   float64\n",
      " 17  Num_of_Delayed_Payment    83782 non-null   object \n",
      " 18  Changed_Credit_Limit      89933 non-null   object \n",
      " 19  Num_Credit_Inquiries      88102 non-null   float64\n",
      " 20  Credit_Mix                90085 non-null   object \n",
      " 21  Outstanding_Debt          90037 non-null   object \n",
      " 22  Credit_Utilization_Ratio  90025 non-null   float64\n",
      " 23  Credit_History_Age        81791 non-null   object \n",
      " 24  Payment_of_Min_Amount     90043 non-null   object \n",
      " 25  Amount_invested_monthly   85880 non-null   object \n",
      " 26  Credit_Score              100000 non-null  int64  \n",
      "dtypes: float64(8), int64(1), object(18)\n",
      "memory usage: 20.6+ MB\n"
     ]
    }
   ],
   "source": [
    "# Get information about the dataset (data types, non-null values)\n",
    "print(\"\\nDataset Information:\")\n",
    "df.info()"
   ]
  },
  {
   "cell_type": "code",
   "execution_count": 88,
   "metadata": {},
   "outputs": [
    {
     "name": "stdout",
     "output_type": "stream",
     "text": [
      "\n",
      "Statistical Summary:\n"
     ]
    },
    {
     "data": {
      "text/html": [
       "<div>\n",
       "<style scoped>\n",
       "    .dataframe tbody tr th:only-of-type {\n",
       "        vertical-align: middle;\n",
       "    }\n",
       "\n",
       "    .dataframe tbody tr th {\n",
       "        vertical-align: top;\n",
       "    }\n",
       "\n",
       "    .dataframe thead th {\n",
       "        text-align: right;\n",
       "    }\n",
       "</style>\n",
       "<table border=\"1\" class=\"dataframe\">\n",
       "  <thead>\n",
       "    <tr style=\"text-align: right;\">\n",
       "      <th></th>\n",
       "      <th>Age</th>\n",
       "      <th>Monthly_Inhand_Salary</th>\n",
       "      <th>Num_Bank_Accounts</th>\n",
       "      <th>Num_Credit_Card</th>\n",
       "      <th>Interest_Rate</th>\n",
       "      <th>Delay_from_due_date</th>\n",
       "      <th>Num_Credit_Inquiries</th>\n",
       "      <th>Credit_Utilization_Ratio</th>\n",
       "      <th>Credit_Score</th>\n",
       "    </tr>\n",
       "  </thead>\n",
       "  <tbody>\n",
       "    <tr>\n",
       "      <th>count</th>\n",
       "      <td>85512.000000</td>\n",
       "      <td>76405.000000</td>\n",
       "      <td>90167.000000</td>\n",
       "      <td>89938.000000</td>\n",
       "      <td>90151.000000</td>\n",
       "      <td>90012.000000</td>\n",
       "      <td>88102.000000</td>\n",
       "      <td>90025.000000</td>\n",
       "      <td>100000.000000</td>\n",
       "    </tr>\n",
       "    <tr>\n",
       "      <th>mean</th>\n",
       "      <td>110.226845</td>\n",
       "      <td>4185.789272</td>\n",
       "      <td>17.105172</td>\n",
       "      <td>22.449410</td>\n",
       "      <td>72.343923</td>\n",
       "      <td>21.081156</td>\n",
       "      <td>27.846882</td>\n",
       "      <td>32.290967</td>\n",
       "      <td>1.880640</td>\n",
       "    </tr>\n",
       "    <tr>\n",
       "      <th>std</th>\n",
       "      <td>684.907588</td>\n",
       "      <td>3178.560506</td>\n",
       "      <td>117.728215</td>\n",
       "      <td>129.037233</td>\n",
       "      <td>465.684822</td>\n",
       "      <td>14.862707</td>\n",
       "      <td>193.610843</td>\n",
       "      <td>5.114670</td>\n",
       "      <td>0.683065</td>\n",
       "    </tr>\n",
       "    <tr>\n",
       "      <th>min</th>\n",
       "      <td>-500.000000</td>\n",
       "      <td>303.645417</td>\n",
       "      <td>-1.000000</td>\n",
       "      <td>0.000000</td>\n",
       "      <td>1.000000</td>\n",
       "      <td>-5.000000</td>\n",
       "      <td>0.000000</td>\n",
       "      <td>20.100770</td>\n",
       "      <td>0.000000</td>\n",
       "    </tr>\n",
       "    <tr>\n",
       "      <th>25%</th>\n",
       "      <td>24.000000</td>\n",
       "      <td>1625.023750</td>\n",
       "      <td>3.000000</td>\n",
       "      <td>4.000000</td>\n",
       "      <td>8.000000</td>\n",
       "      <td>10.000000</td>\n",
       "      <td>3.000000</td>\n",
       "      <td>28.064418</td>\n",
       "      <td>1.000000</td>\n",
       "    </tr>\n",
       "    <tr>\n",
       "      <th>50%</th>\n",
       "      <td>33.000000</td>\n",
       "      <td>3086.683333</td>\n",
       "      <td>6.000000</td>\n",
       "      <td>5.000000</td>\n",
       "      <td>13.000000</td>\n",
       "      <td>18.000000</td>\n",
       "      <td>6.000000</td>\n",
       "      <td>32.318280</td>\n",
       "      <td>2.000000</td>\n",
       "    </tr>\n",
       "    <tr>\n",
       "      <th>75%</th>\n",
       "      <td>42.000000</td>\n",
       "      <td>5940.317500</td>\n",
       "      <td>7.000000</td>\n",
       "      <td>7.000000</td>\n",
       "      <td>20.000000</td>\n",
       "      <td>28.000000</td>\n",
       "      <td>9.000000</td>\n",
       "      <td>36.502272</td>\n",
       "      <td>2.000000</td>\n",
       "    </tr>\n",
       "    <tr>\n",
       "      <th>max</th>\n",
       "      <td>8698.000000</td>\n",
       "      <td>15204.633333</td>\n",
       "      <td>1798.000000</td>\n",
       "      <td>1499.000000</td>\n",
       "      <td>5797.000000</td>\n",
       "      <td>67.000000</td>\n",
       "      <td>2597.000000</td>\n",
       "      <td>50.000000</td>\n",
       "      <td>3.000000</td>\n",
       "    </tr>\n",
       "  </tbody>\n",
       "</table>\n",
       "</div>"
      ],
      "text/plain": [
       "                Age  Monthly_Inhand_Salary  Num_Bank_Accounts  \\\n",
       "count  85512.000000           76405.000000       90167.000000   \n",
       "mean     110.226845            4185.789272          17.105172   \n",
       "std      684.907588            3178.560506         117.728215   \n",
       "min     -500.000000             303.645417          -1.000000   \n",
       "25%       24.000000            1625.023750           3.000000   \n",
       "50%       33.000000            3086.683333           6.000000   \n",
       "75%       42.000000            5940.317500           7.000000   \n",
       "max     8698.000000           15204.633333        1798.000000   \n",
       "\n",
       "       Num_Credit_Card  Interest_Rate  Delay_from_due_date  \\\n",
       "count     89938.000000   90151.000000         90012.000000   \n",
       "mean         22.449410      72.343923            21.081156   \n",
       "std         129.037233     465.684822            14.862707   \n",
       "min           0.000000       1.000000            -5.000000   \n",
       "25%           4.000000       8.000000            10.000000   \n",
       "50%           5.000000      13.000000            18.000000   \n",
       "75%           7.000000      20.000000            28.000000   \n",
       "max        1499.000000    5797.000000            67.000000   \n",
       "\n",
       "       Num_Credit_Inquiries  Credit_Utilization_Ratio   Credit_Score  \n",
       "count          88102.000000              90025.000000  100000.000000  \n",
       "mean              27.846882                 32.290967       1.880640  \n",
       "std              193.610843                  5.114670       0.683065  \n",
       "min                0.000000                 20.100770       0.000000  \n",
       "25%                3.000000                 28.064418       1.000000  \n",
       "50%                6.000000                 32.318280       2.000000  \n",
       "75%                9.000000                 36.502272       2.000000  \n",
       "max             2597.000000                 50.000000       3.000000  "
      ]
     },
     "execution_count": 88,
     "metadata": {},
     "output_type": "execute_result"
    }
   ],
   "source": [
    "# Get statistical summary of numerical columns\n",
    "print(\"\\nStatistical Summary:\")\n",
    "df.describe()"
   ]
  },
  {
   "cell_type": "code",
   "execution_count": 89,
   "metadata": {},
   "outputs": [
    {
     "name": "stdout",
     "output_type": "stream",
     "text": [
      "\n",
      "Missing Values:\n"
     ]
    },
    {
     "data": {
      "text/plain": [
       "ID                           9942\n",
       "Customer_ID                  9893\n",
       "Month                        9938\n",
       "Name                        18887\n",
       "City                         9851\n",
       "Street                       9920\n",
       "Age                         14488\n",
       "SSN                         10001\n",
       "Occupation                   9944\n",
       "Annual_Income               10094\n",
       "Monthly_Inhand_Salary       23595\n",
       "Num_Bank_Accounts            9833\n",
       "Num_Credit_Card             10062\n",
       "Interest_Rate                9849\n",
       "Num_of_Loan                 10191\n",
       "Type_of_Loan                20312\n",
       "Delay_from_due_date          9988\n",
       "Num_of_Delayed_Payment      16218\n",
       "Changed_Credit_Limit        10067\n",
       "Num_Credit_Inquiries        11898\n",
       "Credit_Mix                   9915\n",
       "Outstanding_Debt             9963\n",
       "Credit_Utilization_Ratio     9975\n",
       "Credit_History_Age          18209\n",
       "Payment_of_Min_Amount        9957\n",
       "Amount_invested_monthly     14120\n",
       "Credit_Score                    0\n",
       "dtype: int64"
      ]
     },
     "execution_count": 89,
     "metadata": {},
     "output_type": "execute_result"
    }
   ],
   "source": [
    "# Check for missing values\n",
    "print(\"\\nMissing Values:\")\n",
    "df.isnull().sum()"
   ]
  },
  {
   "cell_type": "markdown",
   "metadata": {},
   "source": [
    "## Data Cleaning"
   ]
  },
  {
   "cell_type": "code",
   "execution_count": 90,
   "metadata": {},
   "outputs": [],
   "source": [
    "# make a copy of the original dataset to preserve it\n",
    "df_processed = df.copy()"
   ]
  },
  {
   "cell_type": "markdown",
   "metadata": {},
   "source": [
    "### Identifier and Administrative Columns"
   ]
  },
  {
   "cell_type": "code",
   "execution_count": 91,
   "metadata": {},
   "outputs": [],
   "source": [
    "# ID (9942 missing, object)\n",
    "# Since this is just an identifier, we can drop the column:\n",
    "df_processed.drop('ID', axis=1, inplace=True)\n",
    "\n",
    "# Customer_ID (9893 missing, object) \n",
    "# Similar to ID, but potentially important for tracking unique customers\n",
    "df_processed.fillna({'Customer_ID': 'Unknown_Customer'}, inplace=True)\n",
    "\n",
    "# Month (9938 missing, object)\n",
    "# For time-related data, we could fill with the most common value:\n",
    "df_processed.fillna({'Month': df_processed['Month'].mode()[0]}, inplace=True)"
   ]
  },
  {
   "cell_type": "markdown",
   "metadata": {},
   "source": [
    "### Personal Information (Low analytical importance)"
   ]
  },
  {
   "cell_type": "code",
   "execution_count": 92,
   "metadata": {},
   "outputs": [],
   "source": [
    "# Name (18887 missing, object)\n",
    "# Names typically are not relevant in prediction, so we could drop it:\n",
    "df_processed.drop('Name', axis=1, inplace=True)\n",
    "\n",
    "# City, Street (9851, 9920 missing, object)\n",
    "# For location data, we could fill with the most common value:\n",
    "# Create a dictionary of fill values\n",
    "for col in ['City', 'Street']:\n",
    "    df_processed[col] = df_processed[col].fillna(df_processed[col].mode()[0])\n",
    "\n",
    "# SSN (10001 missing, object)\n",
    "# This is sensitive data not typically used in modeling\n",
    "df_processed.fillna({'SSN': 'Unknown'}, inplace=True)\n",
    "# Or consider dropping\n",
    "# df_processed.drop('SSN', axis=1, inplace=True)"
   ]
  },
  {
   "cell_type": "markdown",
   "metadata": {},
   "source": [
    "### Demographic and Occupation Features"
   ]
  },
  {
   "cell_type": "code",
   "execution_count": 93,
   "metadata": {},
   "outputs": [
    {
     "name": "stdout",
     "output_type": "stream",
     "text": [
      "Age range (before cleaning): -500.0 to 8698.0\n",
      "Age range (after cleaning): 18.0 to 100.0\n"
     ]
    }
   ],
   "source": [
    "# Age (14488 missing, float64)\n",
    "# First check for invalid values\n",
    "print(f\"Age range (before cleaning): {df_processed['Age'].min()} to {df_processed['Age'].max()}\")\n",
    "\n",
    "# Remove negative or unrealistic ages (like -500 as shown in previous stats)\n",
    "df_processed.loc[df_processed['Age'] < 18, 'Age'] = np.nan\n",
    "df_processed.loc[df_processed['Age'] > 100, 'Age'] = np.nan\n",
    "\n",
    "# Then impute with median (more robust than mean)\n",
    "median_age = df_processed['Age'].median()\n",
    "df_processed.fillna({'Age': median_age}, inplace=True)\n",
    "\n",
    "print(f\"Age range (after cleaning): {df_processed['Age'].min()} to {df_processed['Age'].max()}\")\n",
    "\n",
    "# Occupation (9944 missing, object)\n",
    "df_processed.fillna({'Occupation': df_processed['Occupation'].mode()[0]}, inplace=True)"
   ]
  },
  {
   "cell_type": "markdown",
   "metadata": {},
   "source": [
    "### Financial Metrics"
   ]
  },
  {
   "cell_type": "code",
   "execution_count": 94,
   "metadata": {},
   "outputs": [],
   "source": [
    "# Annual_Income (10094 missing, object) - Note this is stored as object but should be numeric\n",
    "# First convert to numeric, handling errors\n",
    "df_processed['Annual_Income'] = pd.to_numeric(df_processed['Annual_Income'], errors='coerce')\n",
    "# Then impute with median\n",
    "df_processed.fillna({'Annual_Income': df_processed['Annual_Income'].median()}, inplace=True)\n",
    "\n",
    "# Monthly_Inhand_Salary (23595 missing, float64)\n",
    "# This has many missing values - impute with median\n",
    "df_processed.fillna({'Monthly_Inhand_Salary': df_processed['Monthly_Inhand_Salary'].median()}, inplace=True)\n",
    "\n",
    "# Num_Bank_Accounts, Num_Credit_Card, Interest_Rate (float64)\n",
    "# These are numeric features that should be filled with median\n",
    "for col in ['Num_Bank_Accounts', 'Num_Credit_Card', 'Interest_Rate']:\n",
    "    # Remove any negative values first (e.g., -1 in Num_Bank_Accounts)\n",
    "    df_processed.loc[df_processed[col] < 0, col] = np.nan\n",
    "    # Impute with median\n",
    "    df_processed.fillna({col: df_processed[col].median()}, inplace=True)\n",
    "    # Convert to integer if appropriate\n",
    "    if col in ['Num_Bank_Accounts', 'Num_Credit_Card']:\n",
    "        df_processed[col] = df_processed[col].astype(int)\n",
    "\n",
    "# Num_of_Loan (10191 missing, object) - Should likely be numeric\n",
    "df_processed['Num_of_Loan'] = pd.to_numeric(df_processed['Num_of_Loan'], errors='coerce')\n",
    "df_processed.fillna({'Num_of_Loan': df_processed['Num_of_Loan'].median()}, inplace=True)\n",
    "df_processed['Num_of_Loan'] = df_processed['Num_of_Loan'].astype(int)"
   ]
  },
  {
   "cell_type": "markdown",
   "metadata": {},
   "source": [
    "### Loan Features"
   ]
  },
  {
   "cell_type": "code",
   "execution_count": 95,
   "metadata": {},
   "outputs": [],
   "source": [
    "# Type_of_Loan (20312 missing, object) - High number of missing values\n",
    "# Create a new category for missing values\n",
    "df_processed.fillna({'Type_of_Loan': 'Unknown'}, inplace=True)\n",
    "\n",
    "# Delay_from_due_date (9988 missing, float64)\n",
    "# Remove negative values first\n",
    "df_processed.loc[df_processed['Delay_from_due_date'] < 0, 'Delay_from_due_date'] = np.nan\n",
    "# Then impute with median\n",
    "df_processed.fillna({'Delay_from_due_date': df_processed['Delay_from_due_date'].median()}, inplace=True)\n",
    "\n",
    "# Num_of_Delayed_Payment (16218 missing, object) - Should likely be numeric\n",
    "df_processed['Num_of_Delayed_Payment'] = pd.to_numeric(df_processed['Num_of_Delayed_Payment'], errors='coerce')\n",
    "df_processed.fillna({'Num_of_Delayed_Payment': df_processed['Num_of_Delayed_Payment'].median()}, inplace=True)\n",
    "df_processed['Num_of_Delayed_Payment'] = df_processed['Num_of_Delayed_Payment'].astype(int)"
   ]
  },
  {
   "cell_type": "markdown",
   "metadata": {},
   "source": [
    "### Credit Features"
   ]
  },
  {
   "cell_type": "code",
   "execution_count": 96,
   "metadata": {},
   "outputs": [
    {
     "name": "stdout",
     "output_type": "stream",
     "text": [
      "['_' nan 'Good' 'Standard' 'Bad']\n"
     ]
    }
   ],
   "source": [
    "# Changed_Credit_Limit (10067 missing, object) - Should likely be numeric\n",
    "df_processed['Changed_Credit_Limit'] = pd.to_numeric(df_processed['Changed_Credit_Limit'], errors='coerce')\n",
    "df_processed.fillna({'Changed_Credit_Limit': df_processed['Changed_Credit_Limit'].median()}, inplace=True)\n",
    "\n",
    "# Num_Credit_Inquiries (11898 missing, float64)\n",
    "df_processed.fillna({'Num_Credit_Inquiries': df_processed['Num_Credit_Inquiries'].median()}, inplace=True)\n",
    "df_processed['Num_Credit_Inquiries'] = df_processed['Num_Credit_Inquiries'].astype(int)\n",
    "\n",
    "# Credit_Mix (9915 missing, object) - Categorical\n",
    "# Explore the unique values first\n",
    "print(df_processed['Credit_Mix'].unique())\n",
    "# Then fill with a new 'Unknown' category or the most common\n",
    "df_processed.fillna({'Credit_Mix': df_processed['Credit_Mix'].mode()[0]}, inplace=True)\n",
    "\n",
    "# Outstanding_Debt (9963 missing, object) - Should be numeric\n",
    "df_processed['Outstanding_Debt'] = pd.to_numeric(df_processed['Outstanding_Debt'], errors='coerce')\n",
    "df_processed.fillna({'Outstanding_Debt': df_processed['Outstanding_Debt'].median()}, inplace=True)\n",
    "\n",
    "# Credit_Utilization_Ratio (9975 missing, float64)\n",
    "df_processed.fillna({'Credit_Utilization_Ratio': df_processed['Credit_Utilization_Ratio'].median()}, inplace=True)\n",
    "\n",
    "# Credit_History_Age (18209 missing, object) - Format appears to be \"X Years and Y Months\"\n",
    "# This requires special handling to convert to numeric\n",
    "# First extract years and months to create a numeric representation\n",
    "\n",
    "# Define a function to convert to months\n",
    "def age_to_months(age_str):\n",
    "    if pd.isna(age_str):\n",
    "        return np.nan\n",
    "    try:\n",
    "        # Extract years and months\n",
    "        years = int(age_str.split('Years')[0].strip())\n",
    "        # Check if Months part exists\n",
    "        if 'and' in age_str:\n",
    "            months = int(age_str.split('and')[1].split('Months')[0].strip())\n",
    "        else:\n",
    "            months = 0\n",
    "        return years * 12 + months\n",
    "    except:\n",
    "        return np.nan\n",
    "\n",
    "# Create new numeric column\n",
    "df_processed['Credit_History_Months'] = df_processed['Credit_History_Age'].apply(age_to_months)\n",
    "# Fill missing values with median\n",
    "df_processed.fillna({'Credit_History_Months': df_processed['Credit_History_Months'].median()}, inplace=True)\n",
    "# Drop or keep original column based on your needs\n",
    "# df_processed.drop('Credit_History_Age', axis=1, inplace=True)"
   ]
  },
  {
   "cell_type": "markdown",
   "metadata": {},
   "source": [
    "### Payment and Investment Features"
   ]
  },
  {
   "cell_type": "code",
   "execution_count": 97,
   "metadata": {},
   "outputs": [],
   "source": [
    "# Payment_of_Min_Amount (9957 missing, object) - Likely categorical Yes/No\n",
    "# Fill with most common value\n",
    "df_processed.fillna({'Payment_of_Min_Amount': df_processed['Payment_of_Min_Amount'].mode()[0]}, inplace=True)\n",
    "\n",
    "# Amount_invested_monthly (14120 missing, object) - Should be numeric\n",
    "df_processed['Amount_invested_monthly'] = pd.to_numeric(df_processed['Amount_invested_monthly'], errors='coerce')\n",
    "df_processed.fillna({'Amount_invested_monthly': df_processed['Amount_invested_monthly'].median()}, inplace=True)"
   ]
  },
  {
   "cell_type": "markdown",
   "metadata": {},
   "source": [
    "### Final Verification"
   ]
  },
  {
   "cell_type": "code",
   "execution_count": 98,
   "metadata": {},
   "outputs": [
    {
     "name": "stdout",
     "output_type": "stream",
     "text": [
      "\n",
      "Remaining missing values after processing:\n",
      "Credit_History_Age    18209\n",
      "dtype: int64\n",
      "\n",
      "Check for invalid values in numeric columns:\n",
      "Age: Min=18.0, Max=100.0\n",
      "Annual_Income: Min=7005.93, Max=24198062.0\n",
      "Monthly_Inhand_Salary: Min=303.6454166666666, Max=15204.633333333331\n",
      "Num_Bank_Accounts: Min=0, Max=1798\n",
      "Num_Credit_Card: Min=0, Max=1499\n",
      "Interest_Rate: Min=1.0, Max=5797.0\n",
      "Num_of_Loan: Min=-100, Max=1496\n",
      "Delay_from_due_date: Min=0.0, Max=67.0\n",
      "Num_of_Delayed_Payment: Min=-3, Max=4388\n",
      "Changed_Credit_Limit: Min=-6.49, Max=36.97\n",
      "Num_Credit_Inquiries: Min=0, Max=2597\n",
      "Outstanding_Debt: Min=0.23, Max=4998.07\n",
      "Credit_Utilization_Ratio: Min=20.10076996070649, Max=50.00000000000001\n",
      "Amount_invested_monthly: Min=0.0, Max=1977.326102249349\n",
      "Credit_Score: Min=0, Max=3\n",
      "Credit_History_Months: Min=1.0, Max=404.0\n"
     ]
    }
   ],
   "source": [
    "# Check for remaining missing values\n",
    "missing_after = df_processed.isnull().sum()\n",
    "print(\"\\nRemaining missing values after processing:\")\n",
    "print(missing_after[missing_after > 0])\n",
    "print()\n",
    "\n",
    "# Check for invalid values in numeric columns\n",
    "numeric_cols = df_processed.select_dtypes(include=['int64', 'float64']).columns\n",
    "print(\"Check for invalid values in numeric columns:\")\n",
    "for col in numeric_cols:\n",
    "    min_val = df_processed[col].min()\n",
    "    max_val = df_processed[col].max()\n",
    "    print(f\"{col}: Min={min_val}, Max={max_val}\")"
   ]
  },
  {
   "cell_type": "markdown",
   "metadata": {},
   "source": [
    "## Exploratory Data Analysis (EDA)  (all the following script is only a potential structure for performing a general EDA. Some of the variables are not correct, so it will print errors, when runned)"
   ]
  },
  {
   "cell_type": "markdown",
   "metadata": {},
   "source": [
    "### Distribution of Credit Scores"
   ]
  },
  {
   "cell_type": "code",
   "execution_count": 99,
   "metadata": {},
   "outputs": [
    {
     "ename": "KeyError",
     "evalue": "'credit_score'",
     "output_type": "error",
     "traceback": [
      "\u001b[31m---------------------------------------------------------------------------\u001b[39m",
      "\u001b[31mKeyError\u001b[39m                                  Traceback (most recent call last)",
      "\u001b[36mFile \u001b[39m\u001b[32mc:\\Users\\Utente\\Desktop\\STUDIO\\LUISS\\ANNO_3\\Advanced_Coding\\Credit_Score_Classification\\.venv\\Lib\\site-packages\\pandas\\core\\indexes\\base.py:3805\u001b[39m, in \u001b[36mIndex.get_loc\u001b[39m\u001b[34m(self, key)\u001b[39m\n\u001b[32m   3804\u001b[39m \u001b[38;5;28;01mtry\u001b[39;00m:\n\u001b[32m-> \u001b[39m\u001b[32m3805\u001b[39m     \u001b[38;5;28;01mreturn\u001b[39;00m \u001b[38;5;28;43mself\u001b[39;49m\u001b[43m.\u001b[49m\u001b[43m_engine\u001b[49m\u001b[43m.\u001b[49m\u001b[43mget_loc\u001b[49m\u001b[43m(\u001b[49m\u001b[43mcasted_key\u001b[49m\u001b[43m)\u001b[49m\n\u001b[32m   3806\u001b[39m \u001b[38;5;28;01mexcept\u001b[39;00m \u001b[38;5;167;01mKeyError\u001b[39;00m \u001b[38;5;28;01mas\u001b[39;00m err:\n",
      "\u001b[36mFile \u001b[39m\u001b[32mindex.pyx:167\u001b[39m, in \u001b[36mpandas._libs.index.IndexEngine.get_loc\u001b[39m\u001b[34m()\u001b[39m\n",
      "\u001b[36mFile \u001b[39m\u001b[32mindex.pyx:196\u001b[39m, in \u001b[36mpandas._libs.index.IndexEngine.get_loc\u001b[39m\u001b[34m()\u001b[39m\n",
      "\u001b[36mFile \u001b[39m\u001b[32mpandas\\\\_libs\\\\hashtable_class_helper.pxi:7081\u001b[39m, in \u001b[36mpandas._libs.hashtable.PyObjectHashTable.get_item\u001b[39m\u001b[34m()\u001b[39m\n",
      "\u001b[36mFile \u001b[39m\u001b[32mpandas\\\\_libs\\\\hashtable_class_helper.pxi:7089\u001b[39m, in \u001b[36mpandas._libs.hashtable.PyObjectHashTable.get_item\u001b[39m\u001b[34m()\u001b[39m\n",
      "\u001b[31mKeyError\u001b[39m: 'credit_score'",
      "\nThe above exception was the direct cause of the following exception:\n",
      "\u001b[31mKeyError\u001b[39m                                  Traceback (most recent call last)",
      "\u001b[36mCell\u001b[39m\u001b[36m \u001b[39m\u001b[32mIn[99]\u001b[39m\u001b[32m, line 3\u001b[39m\n\u001b[32m      1\u001b[39m \u001b[38;5;66;03m# Assuming 'credit_score' is your target column\u001b[39;00m\n\u001b[32m      2\u001b[39m plt.figure(figsize=(\u001b[32m10\u001b[39m, \u001b[32m6\u001b[39m))\n\u001b[32m----> \u001b[39m\u001b[32m3\u001b[39m sns.histplot(\u001b[43mdf\u001b[49m\u001b[43m[\u001b[49m\u001b[33;43m'\u001b[39;49m\u001b[33;43mcredit_score\u001b[39;49m\u001b[33;43m'\u001b[39;49m\u001b[43m]\u001b[49m, kde=\u001b[38;5;28;01mTrue\u001b[39;00m)\n\u001b[32m      4\u001b[39m plt.title(\u001b[33m'\u001b[39m\u001b[33mDistribution of Credit Scores\u001b[39m\u001b[33m'\u001b[39m)\n\u001b[32m      5\u001b[39m plt.xlabel(\u001b[33m'\u001b[39m\u001b[33mCredit Score\u001b[39m\u001b[33m'\u001b[39m)\n",
      "\u001b[36mFile \u001b[39m\u001b[32mc:\\Users\\Utente\\Desktop\\STUDIO\\LUISS\\ANNO_3\\Advanced_Coding\\Credit_Score_Classification\\.venv\\Lib\\site-packages\\pandas\\core\\frame.py:4102\u001b[39m, in \u001b[36mDataFrame.__getitem__\u001b[39m\u001b[34m(self, key)\u001b[39m\n\u001b[32m   4100\u001b[39m \u001b[38;5;28;01mif\u001b[39;00m \u001b[38;5;28mself\u001b[39m.columns.nlevels > \u001b[32m1\u001b[39m:\n\u001b[32m   4101\u001b[39m     \u001b[38;5;28;01mreturn\u001b[39;00m \u001b[38;5;28mself\u001b[39m._getitem_multilevel(key)\n\u001b[32m-> \u001b[39m\u001b[32m4102\u001b[39m indexer = \u001b[38;5;28;43mself\u001b[39;49m\u001b[43m.\u001b[49m\u001b[43mcolumns\u001b[49m\u001b[43m.\u001b[49m\u001b[43mget_loc\u001b[49m\u001b[43m(\u001b[49m\u001b[43mkey\u001b[49m\u001b[43m)\u001b[49m\n\u001b[32m   4103\u001b[39m \u001b[38;5;28;01mif\u001b[39;00m is_integer(indexer):\n\u001b[32m   4104\u001b[39m     indexer = [indexer]\n",
      "\u001b[36mFile \u001b[39m\u001b[32mc:\\Users\\Utente\\Desktop\\STUDIO\\LUISS\\ANNO_3\\Advanced_Coding\\Credit_Score_Classification\\.venv\\Lib\\site-packages\\pandas\\core\\indexes\\base.py:3812\u001b[39m, in \u001b[36mIndex.get_loc\u001b[39m\u001b[34m(self, key)\u001b[39m\n\u001b[32m   3807\u001b[39m     \u001b[38;5;28;01mif\u001b[39;00m \u001b[38;5;28misinstance\u001b[39m(casted_key, \u001b[38;5;28mslice\u001b[39m) \u001b[38;5;129;01mor\u001b[39;00m (\n\u001b[32m   3808\u001b[39m         \u001b[38;5;28misinstance\u001b[39m(casted_key, abc.Iterable)\n\u001b[32m   3809\u001b[39m         \u001b[38;5;129;01mand\u001b[39;00m \u001b[38;5;28many\u001b[39m(\u001b[38;5;28misinstance\u001b[39m(x, \u001b[38;5;28mslice\u001b[39m) \u001b[38;5;28;01mfor\u001b[39;00m x \u001b[38;5;129;01min\u001b[39;00m casted_key)\n\u001b[32m   3810\u001b[39m     ):\n\u001b[32m   3811\u001b[39m         \u001b[38;5;28;01mraise\u001b[39;00m InvalidIndexError(key)\n\u001b[32m-> \u001b[39m\u001b[32m3812\u001b[39m     \u001b[38;5;28;01mraise\u001b[39;00m \u001b[38;5;167;01mKeyError\u001b[39;00m(key) \u001b[38;5;28;01mfrom\u001b[39;00m\u001b[38;5;250m \u001b[39m\u001b[34;01merr\u001b[39;00m\n\u001b[32m   3813\u001b[39m \u001b[38;5;28;01mexcept\u001b[39;00m \u001b[38;5;167;01mTypeError\u001b[39;00m:\n\u001b[32m   3814\u001b[39m     \u001b[38;5;66;03m# If we have a listlike key, _check_indexing_error will raise\u001b[39;00m\n\u001b[32m   3815\u001b[39m     \u001b[38;5;66;03m#  InvalidIndexError. Otherwise we fall through and re-raise\u001b[39;00m\n\u001b[32m   3816\u001b[39m     \u001b[38;5;66;03m#  the TypeError.\u001b[39;00m\n\u001b[32m   3817\u001b[39m     \u001b[38;5;28mself\u001b[39m._check_indexing_error(key)\n",
      "\u001b[31mKeyError\u001b[39m: 'credit_score'"
     ]
    },
    {
     "data": {
      "text/plain": [
       "<Figure size 1000x600 with 0 Axes>"
      ]
     },
     "metadata": {},
     "output_type": "display_data"
    }
   ],
   "source": [
    "# Assuming 'credit_score' is your target column\n",
    "plt.figure(figsize=(10, 6))\n",
    "sns.histplot(df['credit_score'], kde=True)\n",
    "plt.title('Distribution of Credit Scores')\n",
    "plt.xlabel('Credit Score')\n",
    "plt.ylabel('Frequency')\n",
    "plt.show()\n",
    "\n",
    "# Basic statistics of credit score\n",
    "print(df['credit_score'].describe())"
   ]
  },
  {
   "cell_type": "markdown",
   "metadata": {},
   "source": [
    "### Correlation Analysis"
   ]
  },
  {
   "cell_type": "code",
   "execution_count": null,
   "metadata": {},
   "outputs": [],
   "source": [
    "# Select only numeric columns\n",
    "numeric_cols = df.select_dtypes(include=['int64', 'float64']).columns\n",
    "\n",
    "# Create correlation matrix\n",
    "correlation = df[numeric_cols].corr()\n",
    "\n",
    "# Plot heatmap\n",
    "plt.figure(figsize=(12, 10))\n",
    "sns.heatmap(correlation, annot=True, cmap='coolwarm', fmt=\".2f\", linewidths=0.5)\n",
    "plt.title('Correlation Matrix')\n",
    "plt.tight_layout()\n",
    "plt.show()"
   ]
  },
  {
   "cell_type": "markdown",
   "metadata": {},
   "source": [
    "### Visualize Important Features"
   ]
  },
  {
   "cell_type": "code",
   "execution_count": null,
   "metadata": {},
   "outputs": [],
   "source": [
    "# Bar plot for categorical features (example: payment history)\n",
    "# Replace 'payment_history' with an actual categorical column in your dataset\n",
    "plt.figure(figsize=(10, 6))\n",
    "sns.countplot(x='payment_history', data=df)\n",
    "plt.title('Count of Payment History Categories')\n",
    "plt.ylabel('Count')\n",
    "plt.xticks(rotation=45)\n",
    "plt.show()\n",
    "\n",
    "# Box plot for numerical features by credit score category\n",
    "# First, create a credit score category\n",
    "df['credit_score_category'] = pd.cut(df['credit_score'], \n",
    "                                    bins=[300, 580, 670, 740, 850],\n",
    "                                    labels=['Poor', 'Fair', 'Good', 'Excellent'])\n",
    "\n",
    "# Then plot a numerical feature by credit score category\n",
    "# Replace 'debt_to_income_ratio' with an actual numerical column in your dataset\n",
    "plt.figure(figsize=(12, 6))\n",
    "sns.boxplot(x='credit_score_category', y='debt_to_income_ratio', data=df)\n",
    "plt.title('Debt-to-Income Ratio by Credit Score Category')\n",
    "plt.xlabel('Credit Score Category')\n",
    "plt.ylabel('Debt-to-Income Ratio')\n",
    "plt.show()"
   ]
  },
  {
   "cell_type": "markdown",
   "metadata": {},
   "source": [
    "### Pair Plots for Key Features"
   ]
  },
  {
   "cell_type": "code",
   "execution_count": null,
   "metadata": {},
   "outputs": [],
   "source": [
    "# Select a subset of important features\n",
    "important_features = ['credit_score', 'annual_income', 'debt_to_income_ratio', 'loan_amount', 'interest_rate']\n",
    "# Adjust the list above based on your actual column names\n",
    "\n",
    "# Create pair plots\n",
    "sns.pairplot(df[important_features])\n",
    "plt.suptitle('Pair Plots of Key Features', y=1.02)\n",
    "plt.show()"
   ]
  },
  {
   "cell_type": "markdown",
   "metadata": {},
   "source": [
    "### Feature Relationships Analysis"
   ]
  },
  {
   "cell_type": "code",
   "execution_count": null,
   "metadata": {},
   "outputs": [],
   "source": [
    "# Scatter plot with regression line\n",
    "plt.figure(figsize=(10, 6))\n",
    "sns.regplot(x='annual_income', y='credit_score', data=df, scatter_kws={'alpha':0.5})\n",
    "plt.title('Relationship between Annual Income and Credit Score')\n",
    "plt.xlabel('Annual Income')\n",
    "plt.ylabel('Credit Score')\n",
    "plt.show()\n",
    "\n",
    "# Categorical analysis\n",
    "plt.figure(figsize=(12, 6))\n",
    "sns.violinplot(x='employment_status', y='credit_score', data=df)\n",
    "plt.title('Credit Score Distribution by Employment Status')\n",
    "plt.xlabel('Employment Status')\n",
    "plt.ylabel('Credit Score')\n",
    "plt.xticks(rotation=45)\n",
    "plt.show()"
   ]
  },
  {
   "cell_type": "markdown",
   "metadata": {},
   "source": [
    "### Feature Importance Analysis (Optional)"
   ]
  },
  {
   "cell_type": "code",
   "execution_count": null,
   "metadata": {},
   "outputs": [],
   "source": [
    "from sklearn.ensemble import RandomForestRegressor\n",
    "from sklearn.preprocessing import LabelEncoder\n",
    "\n",
    "# Prepare the data\n",
    "# Select features (X) and target variable (y)\n",
    "# Replace these column names with your actual column names\n",
    "X = df_cleaned[['annual_income', 'debt_to_income_ratio', 'payment_history', 'credit_utilization']]\n",
    "y = df_cleaned['credit_score']\n",
    "\n",
    "# Encode categorical variables\n",
    "for column in X.select_dtypes(include=['object', 'category']).columns:\n",
    "    le = LabelEncoder()\n",
    "    X[column] = le.fit_transform(X[column])\n",
    "\n",
    "# Create and fit the model\n",
    "model = RandomForestRegressor(n_estimators=100, random_state=42)\n",
    "model.fit(X, y)\n",
    "\n",
    "# Get feature importance\n",
    "importance = pd.DataFrame({\n",
    "    'Feature': X.columns,\n",
    "    'Importance': model.feature_importances_\n",
    "}).sort_values('Importance', ascending=False)\n",
    "\n",
    "# Plot feature importance\n",
    "plt.figure(figsize=(10, 6))\n",
    "sns.barplot(x='Importance', y='Feature', data=importance)\n",
    "plt.title('Feature Importance for Credit Score')\n",
    "plt.tight_layout()\n",
    "plt.show()"
   ]
  }
 ],
 "metadata": {
  "kernelspec": {
   "display_name": ".venv",
   "language": "python",
   "name": "python3"
  },
  "language_info": {
   "codemirror_mode": {
    "name": "ipython",
    "version": 3
   },
   "file_extension": ".py",
   "mimetype": "text/x-python",
   "name": "python",
   "nbconvert_exporter": "python",
   "pygments_lexer": "ipython3",
   "version": "3.12.5"
  }
 },
 "nbformat": 4,
 "nbformat_minor": 2
}
